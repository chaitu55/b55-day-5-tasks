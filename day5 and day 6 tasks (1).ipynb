{
 "cells": [
  {
   "cell_type": "code",
   "execution_count": 1,
   "id": "87ca92f9",
   "metadata": {},
   "outputs": [],
   "source": [
    "#day 5 day 6 tasks"
   ]
  },
  {
   "cell_type": "code",
   "execution_count": 2,
   "id": "070c027e",
   "metadata": {},
   "outputs": [],
   "source": [
    "#organizing list data types"
   ]
  },
  {
   "cell_type": "code",
   "execution_count": 3,
   "id": "3b0f8f8e",
   "metadata": {},
   "outputs": [],
   "source": [
    "cars=['benz','audi', 'bmw','maruti', 'kia', 'hyundai']"
   ]
  },
  {
   "cell_type": "code",
   "execution_count": 4,
   "id": "6d787b34",
   "metadata": {},
   "outputs": [
    {
     "name": "stdout",
     "output_type": "stream",
     "text": [
      "['benz', 'audi', 'bmw', 'maruti', 'kia', 'hyundai']\n"
     ]
    }
   ],
   "source": [
    "print(cars)"
   ]
  },
  {
   "cell_type": "code",
   "execution_count": 5,
   "id": "9de3a2a1",
   "metadata": {},
   "outputs": [],
   "source": [
    "# cars name in alphabetical order"
   ]
  },
  {
   "cell_type": "code",
   "execution_count": 6,
   "id": "873a53c5",
   "metadata": {},
   "outputs": [
    {
     "name": "stdout",
     "output_type": "stream",
     "text": [
      "['audi', 'benz', 'bmw', 'hyundai', 'kia', 'maruti']\n"
     ]
    }
   ],
   "source": [
    "print(sorted(cars))"
   ]
  },
  {
   "cell_type": "code",
   "execution_count": null,
   "id": "05e3a702",
   "metadata": {},
   "outputs": [],
   "source": []
  },
  {
   "cell_type": "code",
   "execution_count": 7,
   "id": "734c17e8",
   "metadata": {},
   "outputs": [],
   "source": [
    "cars.sort()"
   ]
  },
  {
   "cell_type": "code",
   "execution_count": 8,
   "id": "8d218200",
   "metadata": {},
   "outputs": [
    {
     "name": "stdout",
     "output_type": "stream",
     "text": [
      "['audi', 'benz', 'bmw', 'hyundai', 'kia', 'maruti']\n"
     ]
    }
   ],
   "source": [
    "print(cars)"
   ]
  },
  {
   "cell_type": "code",
   "execution_count": 9,
   "id": "c145e7fc",
   "metadata": {},
   "outputs": [],
   "source": [
    "cars.reverse()"
   ]
  },
  {
   "cell_type": "code",
   "execution_count": 10,
   "id": "c2b17a46",
   "metadata": {},
   "outputs": [
    {
     "name": "stdout",
     "output_type": "stream",
     "text": [
      "['maruti', 'kia', 'hyundai', 'bmw', 'benz', 'audi']\n"
     ]
    }
   ],
   "source": [
    "print(cars)"
   ]
  },
  {
   "cell_type": "code",
   "execution_count": 11,
   "id": "3a758f69",
   "metadata": {},
   "outputs": [],
   "source": [
    "# to know the count of cars"
   ]
  },
  {
   "cell_type": "code",
   "execution_count": 12,
   "id": "48d1f2c1",
   "metadata": {},
   "outputs": [
    {
     "data": {
      "text/plain": [
       "6"
      ]
     },
     "execution_count": 12,
     "metadata": {},
     "output_type": "execute_result"
    }
   ],
   "source": [
    "len(cars)"
   ]
  },
  {
   "cell_type": "code",
   "execution_count": 2,
   "id": "22d2b42d",
   "metadata": {},
   "outputs": [],
   "source": [
    "# slicing of lists"
   ]
  },
  {
   "cell_type": "code",
   "execution_count": 3,
   "id": "24b4a6ae",
   "metadata": {},
   "outputs": [],
   "source": [
    "students=['ravi', 'abdul','naveen', 'kumar', 'ruksana', 'keerthi']"
   ]
  },
  {
   "cell_type": "code",
   "execution_count": 4,
   "id": "876540fd",
   "metadata": {},
   "outputs": [
    {
     "name": "stdout",
     "output_type": "stream",
     "text": [
      "['ravi']\n"
     ]
    }
   ],
   "source": [
    "print(students[0:1])"
   ]
  },
  {
   "cell_type": "code",
   "execution_count": 5,
   "id": "f3762c21",
   "metadata": {},
   "outputs": [
    {
     "name": "stdout",
     "output_type": "stream",
     "text": [
      "['ravi', 'abdul']\n"
     ]
    }
   ],
   "source": [
    "print(students[0:2]) #for both ravi and abdul we should increase count"
   ]
  },
  {
   "cell_type": "code",
   "execution_count": 7,
   "id": "17ce5b5b",
   "metadata": {},
   "outputs": [
    {
     "name": "stdout",
     "output_type": "stream",
     "text": [
      "['naveen', 'kumar']\n"
     ]
    }
   ],
   "source": [
    "print(students[2:4])"
   ]
  },
  {
   "cell_type": "code",
   "execution_count": 8,
   "id": "1c23f9f7",
   "metadata": {},
   "outputs": [
    {
     "name": "stdout",
     "output_type": "stream",
     "text": [
      "['ravi', 'ruksana']\n"
     ]
    }
   ],
   "source": [
    "print(students[0:6:4])"
   ]
  },
  {
   "cell_type": "code",
   "execution_count": 9,
   "id": "3bbc512f",
   "metadata": {},
   "outputs": [],
   "source": [
    " # looping statements"
   ]
  },
  {
   "cell_type": "code",
   "execution_count": 10,
   "id": "716288a3",
   "metadata": {},
   "outputs": [],
   "source": [
    "students=['sunil', 'ruksana', 'Keerthi', 'Naveen', 'Meghana', 'Sumalatha']"
   ]
  },
  {
   "cell_type": "code",
   "execution_count": 11,
   "id": "a2047be6",
   "metadata": {},
   "outputs": [
    {
     "name": "stdout",
     "output_type": "stream",
     "text": [
      "['sunil', 'ruksana', 'Keerthi', 'Naveen', 'Meghana', 'Sumalatha']\n"
     ]
    }
   ],
   "source": [
    "print(students)"
   ]
  },
  {
   "cell_type": "code",
   "execution_count": 12,
   "id": "080323b9",
   "metadata": {},
   "outputs": [],
   "source": [
    "# to appreciate any  student...select index"
   ]
  },
  {
   "cell_type": "code",
   "execution_count": 13,
   "id": "7b11a8e9",
   "metadata": {},
   "outputs": [
    {
     "name": "stdout",
     "output_type": "stream",
     "text": [
      "Keep up the good work, Sunil\n"
     ]
    }
   ],
   "source": [
    "print(f\"Keep up the good work, {students[0].title()}\")"
   ]
  },
  {
   "cell_type": "code",
   "execution_count": 14,
   "id": "06fc8221",
   "metadata": {},
   "outputs": [
    {
     "name": "stdout",
     "output_type": "stream",
     "text": [
      "Keep up the good work, Naveen\n"
     ]
    }
   ],
   "source": [
    "print(f\"Keep up the good work, {students[3].title()}\")"
   ]
  },
  {
   "cell_type": "code",
   "execution_count": 15,
   "id": "e50ae881",
   "metadata": {},
   "outputs": [],
   "source": [
    "# want to send msg to all students"
   ]
  },
  {
   "cell_type": "code",
   "execution_count": 18,
   "id": "8590c03f",
   "metadata": {},
   "outputs": [
    {
     "name": "stdout",
     "output_type": "stream",
     "text": [
      "keep up the good work, Sunil\n",
      "keep up the good work, Ruksana\n",
      "keep up the good work, Keerthi\n",
      "keep up the good work, Naveen\n",
      "keep up the good work, Meghana\n",
      "keep up the good work, Sumalatha\n"
     ]
    }
   ],
   "source": [
    "for x in students:\n",
    "    print(f\"keep up the good work, {x.title()}\")"
   ]
  },
  {
   "cell_type": "code",
   "execution_count": 19,
   "id": "01296f4a",
   "metadata": {},
   "outputs": [
    {
     "name": "stdout",
     "output_type": "stream",
     "text": [
      "sunil\n",
      "ruksana\n",
      "Keerthi\n",
      "Naveen\n",
      "Meghana\n",
      "Sumalatha\n"
     ]
    }
   ],
   "source": [
    "for a in students:\n",
    "    print(a)"
   ]
  },
  {
   "cell_type": "code",
   "execution_count": 21,
   "id": "694ffd19",
   "metadata": {},
   "outputs": [
    {
     "name": "stdout",
     "output_type": "stream",
     "text": [
      "Keep up the good work, Sunil\n",
      "Keep up the good work, Ruksana\n",
      "Keep up the good work, Keerthi\n",
      "Keep up the good work, Naveen\n",
      "Keep up the good work, Meghana\n",
      "Keep up the good work, Sumalatha\n"
     ]
    }
   ],
   "source": [
    "for ironman in students:\n",
    "    print(f\"Keep up the good work, {ironman.title()}\")"
   ]
  },
  {
   "cell_type": "code",
   "execution_count": 22,
   "id": "1064c55d",
   "metadata": {},
   "outputs": [
    {
     "name": "stdout",
     "output_type": "stream",
     "text": [
      "Keep up the good work, Sunil\n",
      "I will be looking forward to recieve  your github urls to my inbox\n",
      "Keep up the good work, Ruksana\n",
      "I will be looking forward to recieve  your github urls to my inbox\n",
      "Keep up the good work, Keerthi\n",
      "I will be looking forward to recieve  your github urls to my inbox\n",
      "Keep up the good work, Naveen\n",
      "I will be looking forward to recieve  your github urls to my inbox\n",
      "Keep up the good work, Meghana\n",
      "I will be looking forward to recieve  your github urls to my inbox\n",
      "Keep up the good work, Sumalatha\n",
      "I will be looking forward to recieve  your github urls to my inbox\n"
     ]
    }
   ],
   "source": [
    "for x in students:\n",
    "    print(f\"Keep up the good work, {x.title()}\")\n",
    "    print(f\"I will be looking forward to recieve  your github urls to my inbox\")"
   ]
  },
  {
   "cell_type": "code",
   "execution_count": 24,
   "id": "b3902488",
   "metadata": {},
   "outputs": [
    {
     "name": "stdout",
     "output_type": "stream",
     "text": [
      "Keep up the good work, Sunil\n",
      "I will be looking forward to recieve  your github urls to my inbox, Sunil\n",
      "\n",
      " Thank you all for joining the session\n",
      "Keep up the good work, Ruksana\n",
      "I will be looking forward to recieve  your github urls to my inbox, Ruksana\n",
      "\n",
      " Thank you all for joining the session\n",
      "Keep up the good work, Keerthi\n",
      "I will be looking forward to recieve  your github urls to my inbox, Keerthi\n",
      "\n",
      " Thank you all for joining the session\n",
      "Keep up the good work, Naveen\n",
      "I will be looking forward to recieve  your github urls to my inbox, Naveen\n",
      "\n",
      " Thank you all for joining the session\n",
      "Keep up the good work, Meghana\n",
      "I will be looking forward to recieve  your github urls to my inbox, Meghana\n",
      "\n",
      " Thank you all for joining the session\n",
      "Keep up the good work, Sumalatha\n",
      "I will be looking forward to recieve  your github urls to my inbox, Sumalatha\n",
      "\n",
      " Thank you all for joining the session\n"
     ]
    }
   ],
   "source": [
    "for x in students:\n",
    "    print(f\"Keep up the good work, {x.title()}\")\n",
    "    print(f\"I will be looking forward to recieve  your github urls to my inbox, {x.title()}\\n\")\n",
    "    print(\" Thank you all for joining the session\")   \n",
    "\n",
    "    "
   ]
  },
  {
   "cell_type": "code",
   "execution_count": null,
   "id": "6796866f",
   "metadata": {},
   "outputs": [],
   "source": []
  }
 ],
 "metadata": {
  "kernelspec": {
   "display_name": "Python 3 (ipykernel)",
   "language": "python",
   "name": "python3"
  },
  "language_info": {
   "codemirror_mode": {
    "name": "ipython",
    "version": 3
   },
   "file_extension": ".py",
   "mimetype": "text/x-python",
   "name": "python",
   "nbconvert_exporter": "python",
   "pygments_lexer": "ipython3",
   "version": "3.9.7"
  }
 },
 "nbformat": 4,
 "nbformat_minor": 5
}
